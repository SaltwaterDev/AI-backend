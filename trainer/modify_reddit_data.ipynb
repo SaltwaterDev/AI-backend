{
 "cells": [
  {
   "cell_type": "code",
   "execution_count": 15,
   "metadata": {},
   "outputs": [],
   "source": [
    "import sys, os\n",
    "import csv, json\n",
    "import pandas as pd\n",
    "import re\n",
    "from summarizer import Summarizer\n",
    "import numpy as np\n",
    "import matplotlib.pyplot as plt\n",
    "import numpy as np"
   ]
  },
  {
   "cell_type": "code",
   "execution_count": 8,
   "metadata": {},
   "outputs": [
    {
     "data": {
      "text/html": [
       "<div>\n",
       "<style scoped>\n",
       "    .dataframe tbody tr th:only-of-type {\n",
       "        vertical-align: middle;\n",
       "    }\n",
       "\n",
       "    .dataframe tbody tr th {\n",
       "        vertical-align: top;\n",
       "    }\n",
       "\n",
       "    .dataframe thead th {\n",
       "        text-align: right;\n",
       "    }\n",
       "</style>\n",
       "<table border=\"1\" class=\"dataframe\">\n",
       "  <thead>\n",
       "    <tr style=\"text-align: right;\">\n",
       "      <th></th>\n",
       "      <th>Unnamed: 0</th>\n",
       "      <th>sentence1</th>\n",
       "      <th>upvote</th>\n",
       "      <th>sentence2</th>\n",
       "      <th>score</th>\n",
       "    </tr>\n",
       "  </thead>\n",
       "  <tbody>\n",
       "    <tr>\n",
       "      <td>0</td>\n",
       "      <td>0</td>\n",
       "      <td>So I live away from my half brother, who lives...</td>\n",
       "      <td>2</td>\n",
       "      <td>That makes step dad much more sympathetic.</td>\n",
       "      <td>1.098612</td>\n",
       "    </tr>\n",
       "    <tr>\n",
       "      <td>1</td>\n",
       "      <td>1</td>\n",
       "      <td>It’s almost every three to four hours like clo...</td>\n",
       "      <td>8</td>\n",
       "      <td>Aged 2 and 9 months and she sleeps through 30%...</td>\n",
       "      <td>2.197225</td>\n",
       "    </tr>\n",
       "    <tr>\n",
       "      <td>2</td>\n",
       "      <td>2</td>\n",
       "      <td>Not only that, the price for a single bottle w...</td>\n",
       "      <td>281</td>\n",
       "      <td>**The Teacher Lounge Raid*** Potential Take: 1...</td>\n",
       "      <td>5.641907</td>\n",
       "    </tr>\n",
       "    <tr>\n",
       "      <td>3</td>\n",
       "      <td>3</td>\n",
       "      <td>This is not the job I signed up for, I am so e...</td>\n",
       "      <td>14</td>\n",
       "      <td>This virus took what I loved and felt a sense ...</td>\n",
       "      <td>2.708050</td>\n",
       "    </tr>\n",
       "    <tr>\n",
       "      <td>4</td>\n",
       "      <td>4</td>\n",
       "      <td>[Light]</td>\n",
       "      <td>174</td>\n",
       "      <td>That’s definitely something I would do too.</td>\n",
       "      <td>5.164786</td>\n",
       "    </tr>\n",
       "    <tr>\n",
       "      <td>...</td>\n",
       "      <td>...</td>\n",
       "      <td>...</td>\n",
       "      <td>...</td>\n",
       "      <td>...</td>\n",
       "      <td>...</td>\n",
       "    </tr>\n",
       "    <tr>\n",
       "      <td>35010</td>\n",
       "      <td>35010</td>\n",
       "      <td>Sometimes shit happens you couldn't see coming...</td>\n",
       "      <td>611</td>\n",
       "      <td>Don't expose yourself to new information about...</td>\n",
       "      <td>6.416732</td>\n",
       "    </tr>\n",
       "    <tr>\n",
       "      <td>35011</td>\n",
       "      <td>35011</td>\n",
       "      <td>I am 16M and I usually do not visit my friends...</td>\n",
       "      <td>19</td>\n",
       "      <td>I just wanted to say this is the most adorable...</td>\n",
       "      <td>2.995732</td>\n",
       "    </tr>\n",
       "    <tr>\n",
       "      <td>35012</td>\n",
       "      <td>35012</td>\n",
       "      <td>I’m a girl and I always wanted to ask a guy ou...</td>\n",
       "      <td>1499</td>\n",
       "      <td>I appreciate the gesture but have no interest ...</td>\n",
       "      <td>7.313220</td>\n",
       "    </tr>\n",
       "    <tr>\n",
       "      <td>35013</td>\n",
       "      <td>35013</td>\n",
       "      <td>But today I realized that he was not kidding.</td>\n",
       "      <td>8</td>\n",
       "      <td>You are a goddess. Share your victories loud a...</td>\n",
       "      <td>2.197225</td>\n",
       "    </tr>\n",
       "    <tr>\n",
       "      <td>35014</td>\n",
       "      <td>35014</td>\n",
       "      <td>I(24f) have a husband(30m) and a new born child.</td>\n",
       "      <td>14961</td>\n",
       "      <td>This is a form of sexual assault and domestic ...</td>\n",
       "      <td>9.613269</td>\n",
       "    </tr>\n",
       "  </tbody>\n",
       "</table>\n",
       "<p>35015 rows × 5 columns</p>\n",
       "</div>"
      ],
      "text/plain": [
       "       Unnamed: 0                                          sentence1  upvote  \\\n",
       "0               0  So I live away from my half brother, who lives...       2   \n",
       "1               1  It’s almost every three to four hours like clo...       8   \n",
       "2               2  Not only that, the price for a single bottle w...     281   \n",
       "3               3  This is not the job I signed up for, I am so e...      14   \n",
       "4               4                                            [Light]     174   \n",
       "...           ...                                                ...     ...   \n",
       "35010       35010  Sometimes shit happens you couldn't see coming...     611   \n",
       "35011       35011  I am 16M and I usually do not visit my friends...      19   \n",
       "35012       35012  I’m a girl and I always wanted to ask a guy ou...    1499   \n",
       "35013       35013      But today I realized that he was not kidding.       8   \n",
       "35014       35014   I(24f) have a husband(30m) and a new born child.   14961   \n",
       "\n",
       "                                               sentence2     score  \n",
       "0             That makes step dad much more sympathetic.  1.098612  \n",
       "1      Aged 2 and 9 months and she sleeps through 30%...  2.197225  \n",
       "2      **The Teacher Lounge Raid*** Potential Take: 1...  5.641907  \n",
       "3      This virus took what I loved and felt a sense ...  2.708050  \n",
       "4            That’s definitely something I would do too.  5.164786  \n",
       "...                                                  ...       ...  \n",
       "35010  Don't expose yourself to new information about...  6.416732  \n",
       "35011  I just wanted to say this is the most adorable...  2.995732  \n",
       "35012  I appreciate the gesture but have no interest ...  7.313220  \n",
       "35013  You are a goddess. Share your victories loud a...  2.197225  \n",
       "35014  This is a form of sexual assault and domestic ...  9.613269  \n",
       "\n",
       "[35015 rows x 5 columns]"
      ]
     },
     "execution_count": 8,
     "metadata": {},
     "output_type": "execute_result"
    }
   ],
   "source": [
    "df_train = pd.read_csv('df_reddit_train.csv')"
   ]
  },
  {
   "cell_type": "code",
   "execution_count": 27,
   "metadata": {},
   "outputs": [],
   "source": [
    "counselchat_df = pd.read_csv('../counsel-chat/data/20200325_counsel_chat.csv')"
   ]
  },
  {
   "cell_type": "code",
   "execution_count": 33,
   "metadata": {},
   "outputs": [
    {
     "data": {
      "image/png": "[encoded data removed]",
      "text/plain": [
       "<Figure size 432x288 with 1 Axes>"
      ]
     },
     "metadata": {
      "needs_background": "light"
     },
     "output_type": "display_data"
    }
   ],
   "source": [
    "counselchat_df['score'] = counselchat_df['upvotes'].copy()\n",
    "counselchat_df['score'] = counselchat_df['score'].apply(lambda x: np.log1p(x) if x != -1 else 0)\n",
    "\n",
    "counselchat_df['score'].plot(\n",
    "    kind='hist',\n",
    "    bins=10,\n",
    "    color='blue',\n",
    "    title= 'Score Distribution on CounselChat')\n",
    "plt.show()"
   ]
  },
  {
   "cell_type": "code",
   "execution_count": 11,
   "metadata": {},
   "outputs": [],
   "source": [
    "reddit_df = pd.read_csv('../text_reddit_v1.csv')"
   ]
  },
  {
   "cell_type": "code",
   "execution_count": 35,
   "metadata": {},
   "outputs": [
    {
     "data": {
      "image/png": "[encoded data removed]",
      "text/plain": [
       "<Figure size 432x288 with 1 Axes>"
      ]
     },
     "metadata": {
      "needs_background": "light"
     },
     "output_type": "display_data"
    }
   ],
   "source": [
    "reddit_df['score'] = reddit_df['upvote'].copy()\n",
    "reddit_df['score'] = reddit_df['score'].apply(lambda x: np.log1p(x) if x != -1 else 0)\n",
    "\n",
    "reddit_df['score'].plot(\n",
    "    kind='hist',\n",
    "    bins=80,\n",
    "    color='green',\n",
    "    title= 'Score Distribution on Reddit')\n",
    "plt.show()"
   ]
  },
  {
   "cell_type": "code",
   "execution_count": 5,
   "metadata": {},
   "outputs": [
    {
     "data": {
      "text/html": [
       "<div>\n",
       "<style scoped>\n",
       "    .dataframe tbody tr th:only-of-type {\n",
       "        vertical-align: middle;\n",
       "    }\n",
       "\n",
       "    .dataframe tbody tr th {\n",
       "        vertical-align: top;\n",
       "    }\n",
       "\n",
       "    .dataframe thead th {\n",
       "        text-align: right;\n",
       "    }\n",
       "</style>\n",
       "<table border=\"1\" class=\"dataframe\">\n",
       "  <thead>\n",
       "    <tr style=\"text-align: right;\">\n",
       "      <th></th>\n",
       "      <th>Unnamed: 0</th>\n",
       "      <th>sentence1</th>\n",
       "      <th>upvote</th>\n",
       "      <th>sentence2</th>\n",
       "      <th>score</th>\n",
       "    </tr>\n",
       "  </thead>\n",
       "  <tbody>\n",
       "    <tr>\n",
       "      <td>0</td>\n",
       "      <td>0</td>\n",
       "      <td>They all have cats. Usually more than one. I'm...</td>\n",
       "      <td>232</td>\n",
       "      <td>Claritin®</td>\n",
       "      <td>5.451038</td>\n",
       "    </tr>\n",
       "    <tr>\n",
       "      <td>1</td>\n",
       "      <td>1</td>\n",
       "      <td>Finally back in work with my second NF after 6...</td>\n",
       "      <td>4</td>\n",
       "      <td>Lazy parenting results in headache children. E...</td>\n",
       "      <td>1.609438</td>\n",
       "    </tr>\n",
       "    <tr>\n",
       "      <td>2</td>\n",
       "      <td>2</td>\n",
       "      <td>I was playing piano in my room, when my mom sa...</td>\n",
       "      <td>788</td>\n",
       "      <td>*_PRAISE THE HOLY SNITCH_*</td>\n",
       "      <td>6.670766</td>\n",
       "    </tr>\n",
       "    <tr>\n",
       "      <td>3</td>\n",
       "      <td>3</td>\n",
       "      <td>I've got a friend group of about 9 of us. We'r...</td>\n",
       "      <td>69</td>\n",
       "      <td>Kind of a dick move on your part if you feel t...</td>\n",
       "      <td>4.248495</td>\n",
       "    </tr>\n",
       "    <tr>\n",
       "      <td>4</td>\n",
       "      <td>4</td>\n",
       "      <td>For starters, I’m already married and my husba...</td>\n",
       "      <td>7264</td>\n",
       "      <td>It is your special day and it's your call. Onl...</td>\n",
       "      <td>8.890824</td>\n",
       "    </tr>\n",
       "    <tr>\n",
       "      <td>...</td>\n",
       "      <td>...</td>\n",
       "      <td>...</td>\n",
       "      <td>...</td>\n",
       "      <td>...</td>\n",
       "      <td>...</td>\n",
       "    </tr>\n",
       "    <tr>\n",
       "      <td>44228</td>\n",
       "      <td>44228</td>\n",
       "      <td>Lately I’ve been seeing a huge influx of posts...</td>\n",
       "      <td>2</td>\n",
       "      <td>This. Thank you 💖</td>\n",
       "      <td>1.098612</td>\n",
       "    </tr>\n",
       "    <tr>\n",
       "      <td>44229</td>\n",
       "      <td>44229</td>\n",
       "      <td>I'm having a birthday party for my 5 year old ...</td>\n",
       "      <td>7</td>\n",
       "      <td>I've experienced this in the past as a parent ...</td>\n",
       "      <td>2.079442</td>\n",
       "    </tr>\n",
       "    <tr>\n",
       "      <td>44230</td>\n",
       "      <td>44230</td>\n",
       "      <td>Long title but I think its necessary. I'm gonn...</td>\n",
       "      <td>59</td>\n",
       "      <td>Don’t let her take your daughter. It seems lik...</td>\n",
       "      <td>4.094345</td>\n",
       "    </tr>\n",
       "    <tr>\n",
       "      <td>44231</td>\n",
       "      <td>44231</td>\n",
       "      <td>Hello there,Due to financial issues and uni I ...</td>\n",
       "      <td>2</td>\n",
       "      <td>I don't think it's helpful for you - or Reddit...</td>\n",
       "      <td>1.098612</td>\n",
       "    </tr>\n",
       "    <tr>\n",
       "      <td>44232</td>\n",
       "      <td>44232</td>\n",
       "      <td>i’m sobbing to death because my parents can’t ...</td>\n",
       "      <td>10</td>\n",
       "      <td>Put conditioner in ur hair and use the small c...</td>\n",
       "      <td>2.397895</td>\n",
       "    </tr>\n",
       "  </tbody>\n",
       "</table>\n",
       "<p>44233 rows × 5 columns</p>\n",
       "</div>"
      ],
      "text/plain": [
       "       Unnamed: 0                                          sentence1  upvote  \\\n",
       "0               0  They all have cats. Usually more than one. I'm...     232   \n",
       "1               1  Finally back in work with my second NF after 6...       4   \n",
       "2               2  I was playing piano in my room, when my mom sa...     788   \n",
       "3               3  I've got a friend group of about 9 of us. We'r...      69   \n",
       "4               4  For starters, I’m already married and my husba...    7264   \n",
       "...           ...                                                ...     ...   \n",
       "44228       44228  Lately I’ve been seeing a huge influx of posts...       2   \n",
       "44229       44229  I'm having a birthday party for my 5 year old ...       7   \n",
       "44230       44230  Long title but I think its necessary. I'm gonn...      59   \n",
       "44231       44231  Hello there,Due to financial issues and uni I ...       2   \n",
       "44232       44232  i’m sobbing to death because my parents can’t ...      10   \n",
       "\n",
       "                                               sentence2     score  \n",
       "0                                              Claritin®  5.451038  \n",
       "1      Lazy parenting results in headache children. E...  1.609438  \n",
       "2                             *_PRAISE THE HOLY SNITCH_*  6.670766  \n",
       "3      Kind of a dick move on your part if you feel t...  4.248495  \n",
       "4      It is your special day and it's your call. Onl...  8.890824  \n",
       "...                                                  ...       ...  \n",
       "44228                                  This. Thank you 💖  1.098612  \n",
       "44229  I've experienced this in the past as a parent ...  2.079442  \n",
       "44230  Don’t let her take your daughter. It seems lik...  4.094345  \n",
       "44231  I don't think it's helpful for you - or Reddit...  1.098612  \n",
       "44232  Put conditioner in ur hair and use the small c...  2.397895  \n",
       "\n",
       "[44233 rows x 5 columns]"
      ]
     },
     "execution_count": 5,
     "metadata": {},
     "output_type": "execute_result"
    }
   ],
   "source": [
    "df_train"
   ]
  },
  {
   "cell_type": "code",
   "execution_count": null,
   "metadata": {},
   "outputs": [],
   "source": [
    "df = pd.read_csv('text.csv')"
   ]
  },
  {
   "cell_type": "markdown",
   "metadata": {},
   "source": [
    "## Train Dataset"
   ]
  },
  {
   "cell_type": "code",
   "execution_count": 3,
   "metadata": {},
   "outputs": [
    {
     "data": {
      "image/png": "[encoded data removed]",
      "text/plain": [
       "<Figure size 432x288 with 1 Axes>"
      ]
     },
     "metadata": {
      "needs_background": "light"
     },
     "output_type": "display_data"
    }
   ],
   "source": [
    "p = df_train['score'].plot(\n",
    "    kind='hist',\n",
    "    bins=100,\n",
    "    color='blue',\n",
    "    title= 'score Distribution')\n",
    "plt.show()"
   ]
  },
  {
   "cell_type": "code",
   "execution_count": 4,
   "metadata": {},
   "outputs": [
    {
     "data": {
      "image/png": "[encoded data removed]",
      "text/plain": [
       "<Figure size 432x288 with 1 Axes>"
      ]
     },
     "metadata": {
      "needs_background": "light"
     },
     "output_type": "display_data"
    }
   ],
   "source": [
    "temp = df_train[(df_train['score'] > 0) & (df_train['score'] <= 2)]\n",
    "p = temp['score'].plot(\n",
    "    kind='hist',\n",
    "    bins=100,\n",
    "    color='blue',\n",
    "    title='score Distribution')"
   ]
  },
  {
   "cell_type": "code",
   "execution_count": 5,
   "metadata": {},
   "outputs": [
    {
     "data": {
      "image/png": "[encoded data removed]",
      "text/plain": [
       "<Figure size 432x288 with 1 Axes>"
      ]
     },
     "metadata": {
      "needs_background": "light"
     },
     "output_type": "display_data"
    }
   ],
   "source": [
    "remove_n = len(temp)//2\n",
    "drop_indices = np.random.choice(temp.index, remove_n, replace=False)\n",
    "temp_subset = temp.drop(drop_indices)\n",
    "\n",
    "p = temp_subset['score'].plot(\n",
    "    kind='hist',\n",
    "    bins=20,\n",
    "    color='blue',\n",
    "    title='score Distribution')"
   ]
  },
  {
   "cell_type": "code",
   "execution_count": 6,
   "metadata": {},
   "outputs": [
    {
     "data": {
      "image/png": "[encoded data removed]",
      "text/plain": [
       "<Figure size 432x288 with 1 Axes>"
      ]
     },
     "metadata": {
      "needs_background": "light"
     },
     "output_type": "display_data"
    }
   ],
   "source": [
    "df_train.drop(temp.index)['score'].plot(\n",
    "    kind='hist',\n",
    "    bins=100,\n",
    "    color='blue',\n",
    "    title='score Distribution')\n",
    "plt.show()\n",
    "#df_train.drop(temp.index)"
   ]
  },
  {
   "cell_type": "code",
   "execution_count": 7,
   "metadata": {},
   "outputs": [
    {
     "data": {
      "text/plain": [
       "<matplotlib.axes._subplots.AxesSubplot at 0x7fef249662d0>"
      ]
     },
     "execution_count": 7,
     "metadata": {},
     "output_type": "execute_result"
    },
    {
     "data": {
      "image/png": "[encoded data removed]",
      "text/plain": [
       "<Figure size 432x288 with 1 Axes>"
      ]
     },
     "metadata": {
      "needs_background": "light"
     },
     "output_type": "display_data"
    }
   ],
   "source": [
    "df_train.drop(temp.index).append(temp_subset)['score'].plot(\n",
    "    kind='hist',\n",
    "    bins=100,\n",
    "    color='blue',\n",
    "    title='score Distribution')"
   ]
  },
  {
   "cell_type": "code",
   "execution_count": 9,
   "metadata": {},
   "outputs": [],
   "source": [
    "new_df_train = df_train.drop(temp.index).append(temp_subset)\n",
    "new_df_train.to_csv('df_reddit_train.csv')"
   ]
  },
  {
   "cell_type": "code",
   "execution_count": 10,
   "metadata": {},
   "outputs": [
    {
     "data": {
      "text/html": [
       "<div>\n",
       "<style scoped>\n",
       "    .dataframe tbody tr th:only-of-type {\n",
       "        vertical-align: middle;\n",
       "    }\n",
       "\n",
       "    .dataframe tbody tr th {\n",
       "        vertical-align: top;\n",
       "    }\n",
       "\n",
       "    .dataframe thead th {\n",
       "        text-align: right;\n",
       "    }\n",
       "</style>\n",
       "<table border=\"1\" class=\"dataframe\">\n",
       "  <thead>\n",
       "    <tr style=\"text-align: right;\">\n",
       "      <th></th>\n",
       "      <th>Unnamed: 0</th>\n",
       "      <th>upvote</th>\n",
       "      <th>score</th>\n",
       "    </tr>\n",
       "  </thead>\n",
       "  <tbody>\n",
       "    <tr>\n",
       "      <td>count</td>\n",
       "      <td>34996.000000</td>\n",
       "      <td>34996.000000</td>\n",
       "      <td>34996.000000</td>\n",
       "    </tr>\n",
       "    <tr>\n",
       "      <td>mean</td>\n",
       "      <td>22071.101726</td>\n",
       "      <td>682.948508</td>\n",
       "      <td>3.747241</td>\n",
       "    </tr>\n",
       "    <tr>\n",
       "      <td>std</td>\n",
       "      <td>12766.907224</td>\n",
       "      <td>2028.324455</td>\n",
       "      <td>2.441477</td>\n",
       "    </tr>\n",
       "    <tr>\n",
       "      <td>min</td>\n",
       "      <td>0.000000</td>\n",
       "      <td>-1.000000</td>\n",
       "      <td>-10.000000</td>\n",
       "    </tr>\n",
       "    <tr>\n",
       "      <td>25%</td>\n",
       "      <td>11022.750000</td>\n",
       "      <td>6.000000</td>\n",
       "      <td>1.945910</td>\n",
       "    </tr>\n",
       "    <tr>\n",
       "      <td>50%</td>\n",
       "      <td>22013.500000</td>\n",
       "      <td>21.000000</td>\n",
       "      <td>3.091042</td>\n",
       "    </tr>\n",
       "    <tr>\n",
       "      <td>75%</td>\n",
       "      <td>33088.500000</td>\n",
       "      <td>257.000000</td>\n",
       "      <td>5.552960</td>\n",
       "    </tr>\n",
       "    <tr>\n",
       "      <td>max</td>\n",
       "      <td>44232.000000</td>\n",
       "      <td>57713.000000</td>\n",
       "      <td>10.963255</td>\n",
       "    </tr>\n",
       "  </tbody>\n",
       "</table>\n",
       "</div>"
      ],
      "text/plain": [
       "         Unnamed: 0        upvote         score\n",
       "count  34996.000000  34996.000000  34996.000000\n",
       "mean   22071.101726    682.948508      3.747241\n",
       "std    12766.907224   2028.324455      2.441477\n",
       "min        0.000000     -1.000000    -10.000000\n",
       "25%    11022.750000      6.000000      1.945910\n",
       "50%    22013.500000     21.000000      3.091042\n",
       "75%    33088.500000    257.000000      5.552960\n",
       "max    44232.000000  57713.000000     10.963255"
      ]
     },
     "execution_count": 10,
     "metadata": {},
     "output_type": "execute_result"
    }
   ],
   "source": [
    "new_df_train.describe()"
   ]
  },
  {
   "cell_type": "code",
   "execution_count": 3,
   "metadata": {},
   "outputs": [],
   "source": [
    "df_test = pd.read_csv('df_reddit_test.csv')"
   ]
  },
  {
   "cell_type": "code",
   "execution_count": 4,
   "metadata": {},
   "outputs": [
    {
     "data": {
      "image/png": "[encoded data removed]",
      "text/plain": [
       "<Figure size 432x288 with 1 Axes>"
      ]
     },
     "metadata": {
      "needs_background": "light"
     },
     "output_type": "display_data"
    }
   ],
   "source": [
    "p = df_test['score'].plot(\n",
    "    kind='hist',\n",
    "    bins=100,\n",
    "    color='blue',\n",
    "    title= 'score Distribution')\n",
    "plt.show()"
   ]
  },
  {
   "cell_type": "code",
   "execution_count": null,
   "metadata": {},
   "outputs": [],
   "source": []
  }
 ],
 "metadata": {
  "kernelspec": {
   "display_name": "Python 3",
   "language": "python",
   "name": "python3"
  },
  "language_info": {
   "codemirror_mode": {
    "name": "ipython",
    "version": 3
   },
   "file_extension": ".py",
   "mimetype": "text/x-python",
   "name": "python",
   "nbconvert_exporter": "python",
   "pygments_lexer": "ipython3",
   "version": "3.7.4"
  }
 },
 "nbformat": 4,
 "nbformat_minor": 4
}
