{
 "cells": [
  {
   "cell_type": "code",
   "execution_count": 1,
   "metadata": {},
   "outputs": [
    {
     "name": "stderr",
     "output_type": "stream",
     "text": [
      "/userhome/30/hihung/anaconda3/envs/tensorflow/lib/python3.6/site-packages/torch/cuda/__init__.py:52: UserWarning: CUDA initialization: Found no NVIDIA driver on your system. Please check that you have an NVIDIA GPU and installed a driver from http://www.nvidia.com/Download/index.aspx (Triggered internally at  /pytorch/c10/cuda/CUDAFunctions.cpp:100.)\n",
      "  return torch._C._cuda_getDeviceCount() > 0\n",
      "/userhome/30/hihung/anaconda3/envs/tensorflow/lib/python3.6/site-packages/torch/cuda/amp/autocast_mode.py:114: UserWarning: torch.cuda.amp.autocast only affects CUDA ops, but CUDA is not available.  Disabling.\n",
      "  warnings.warn(\"torch.cuda.amp.autocast only affects CUDA ops, but CUDA is not available.  Disabling.\")\n",
      "/userhome/30/hihung/anaconda3/envs/tensorflow/lib/python3.6/site-packages/tensorflow/python/framework/dtypes.py:516: FutureWarning: Passing (type, 1) or '1type' as a synonym of type is deprecated; in a future version of numpy, it will be understood as (type, (1,)) / '(1,)type'.\n",
      "  _np_qint8 = np.dtype([(\"qint8\", np.int8, 1)])\n",
      "/userhome/30/hihung/anaconda3/envs/tensorflow/lib/python3.6/site-packages/tensorflow/python/framework/dtypes.py:517: FutureWarning: Passing (type, 1) or '1type' as a synonym of type is deprecated; in a future version of numpy, it will be understood as (type, (1,)) / '(1,)type'.\n",
      "  _np_quint8 = np.dtype([(\"quint8\", np.uint8, 1)])\n",
      "/userhome/30/hihung/anaconda3/envs/tensorflow/lib/python3.6/site-packages/tensorflow/python/framework/dtypes.py:518: FutureWarning: Passing (type, 1) or '1type' as a synonym of type is deprecated; in a future version of numpy, it will be understood as (type, (1,)) / '(1,)type'.\n",
      "  _np_qint16 = np.dtype([(\"qint16\", np.int16, 1)])\n",
      "/userhome/30/hihung/anaconda3/envs/tensorflow/lib/python3.6/site-packages/tensorflow/python/framework/dtypes.py:519: FutureWarning: Passing (type, 1) or '1type' as a synonym of type is deprecated; in a future version of numpy, it will be understood as (type, (1,)) / '(1,)type'.\n",
      "  _np_quint16 = np.dtype([(\"quint16\", np.uint16, 1)])\n",
      "/userhome/30/hihung/anaconda3/envs/tensorflow/lib/python3.6/site-packages/tensorflow/python/framework/dtypes.py:520: FutureWarning: Passing (type, 1) or '1type' as a synonym of type is deprecated; in a future version of numpy, it will be understood as (type, (1,)) / '(1,)type'.\n",
      "  _np_qint32 = np.dtype([(\"qint32\", np.int32, 1)])\n",
      "/userhome/30/hihung/anaconda3/envs/tensorflow/lib/python3.6/site-packages/tensorflow/python/framework/dtypes.py:525: FutureWarning: Passing (type, 1) or '1type' as a synonym of type is deprecated; in a future version of numpy, it will be understood as (type, (1,)) / '(1,)type'.\n",
      "  np_resource = np.dtype([(\"resource\", np.ubyte, 1)])\n"
     ]
    }
   ],
   "source": [
    "from sklearn import metrics\n",
    "import pandas as pd\n",
    "import matplotlib.pyplot as plt\n",
    "import configparser\n",
    "from datetime import datetime\n",
    "from utils import CustomDataset, SentencePairClassifier, pairing\n",
    "import torch\n",
    "import torch.nn as nn\n",
    "from torch.utils.data import DataLoader\n",
    "from bertviz import head_view\n",
    "from transformers import AutoTokenizer, AutoModel, AutoConfig\n",
    "\n",
    "from summarizer import Summarizer\n",
    "import numpy as np\n",
    "from torch.cuda.amp import autocast\n",
    "from torch.utils.data import Dataset\n",
    "import tensorflow as tf "
   ]
  },
  {
   "cell_type": "markdown",
   "metadata": {},
   "source": [
    "# Load parameters"
   ]
  },
  {
   "cell_type": "code",
   "execution_count": 3,
   "metadata": {},
   "outputs": [
    {
     "name": "stdout",
     "output_type": "stream",
     "text": [
      "load parameters\n"
     ]
    }
   ],
   "source": [
    "# Load parameters\n",
    "print(\"load parameters\")\n",
    "config = configparser.ConfigParser()\n",
    "config.read('parameter.ini')\n",
    "parameters =  config['parameters']\n",
    "    \n",
    "summarize_question = parameters.getboolean('summarize_question')\n",
    "summarize_answer = parameters.getboolean('summarize_answer')\n",
    "normalize = parameters.get('normalize')\n",
    "bert_model = parameters.get('bert_model')    \n",
    "freeze_bert = parameters.getboolean('freeze_bert') # if True, freeze the encoder weights and only update the classification layer weights\n",
    "maxlen = parameters.getint('maxlen') \n",
    "bs = parameters.getint('bs')  # batch size\n",
    "iters_to_accumulate = parameters.getint('iters_to_accumulate')  # the gradient accumulation adds gradients over an effective batch of size : bs * iters_to_accumulate. If set to \"1\", you get the usual batch size\n",
    "lr = parameters.getfloat('lr')  # learning rate\n",
    "epochs = parameters.getint('epochs')  # number of training epochs\n",
    "summarize = any((summarize_question, summarize_answer))\n"
   ]
  },
  {
   "cell_type": "markdown",
   "metadata": {},
   "source": [
    "# CounselChat Data"
   ]
  },
  {
   "cell_type": "code",
   "execution_count": 3,
   "metadata": {},
   "outputs": [],
   "source": [
    "post = \"I'm dealing with imposter syndrome in graduate school. I know that by all accounts\\\n",
    " I am a phenomenal graduate student, and that I am well-published. I am well liked by students\\\n",
    " and faculty alike. And yet I cannot shake the feeling that I'm going to be found out as a fraud.\\\n",
    " How can I get over this feeling?\""
   ]
  },
  {
   "cell_type": "code",
   "execution_count": 4,
   "metadata": {},
   "outputs": [],
   "source": [
    "comment1 = ['It sounds like you are on the right track. Recognizing these nagging thoughts of self- doubt\\\n",
    "            as \"imposter syndrome\" is a huge step in the right direction.  From what you have written here, it appears\\\n",
    "            that you are able to challenge your own thoughts and provide yourself with evidence that counteracts the\\\n",
    "            imposter syndrome.   Continuing to remind yourself of what you have accomplished and looking at the facts\\\n",
    "            at hand can help diminish doubt.  Remember, many successful people battled imposter syndrome on the way to\\\n",
    "            the top (and still manage it).  It might be helpful to read some of their stories so that you don\\'t feel alone.\\\n",
    "            \"The Cut\" has a great article on \"25 Famous Women on Imposter-Syndrome and Self-Doubt\".   Business Insider has\\\n",
    "            a great article about men and the imposter syndrome too. Remember, if you jumped through all of the hoops to get into school and get published-- you belong. ',\n",
    "           \n",
    "           'Impostor syndrome is such a common experience in graduate school and other high-pressure, competitive \\\n",
    "           settings. I am glad to hear that you have some sense of your accomplishments, but I understand that it \\\n",
    "           can be quite hard to internalize and truly believe them. Here are a few suggestions for overcoming impostor syndrome:\\\n",
    "            Check your standards. Impostor syndrome is often connected to perfectionism, and you may be holding impossibly high\\\n",
    "            standards for yourself. Do you believe you need to know everything, excel at everything, or be liked by everyone in\\\n",
    "            order to succeed in graduate school? If so, nothing you accomplish will ever measure up to your ideals. Try shifting\\\n",
    "            your focus away from achievement and onto development: what are you learning about yourself and your research, and\\\n",
    "            how are you growing as a person and a scholar? This can help you appreciate yourself as a work in progress -- which all of us fundamentally are.\\\n",
    "            Own your uniqueness. It can be easy to compare yourself to peers based on number of publications, fellowships, \\\n",
    "            conferences, etc. But you are not a number. You are the only person in your program with your specific background,\\\n",
    "            interests, and point of view. The more you own what makes you special and distinct from others, the more you\\'re likely\\\n",
    "            to feel that you have something to contribute to your program and to your field.\\\n",
    "            Celebrate your successes. Positive psychology has demonstrated that we can retrain our minds by paying more attention\\\n",
    "            to positive information. I recommend keeping a success journal and jotting down anything (large or small, concrete or\\\n",
    "            abstract) that you feel proud of. Aim to make a few additions a day to it. You may find that through pointing out these daily\\\n",
    "            victories to yourself, you start to accept more positive feedback and believe in yourself in a deeper way.\\\n",
    "            Talk to trusted peers and mentors. Impostor syndrome flourishes in silence. If you have an advisor or\\\n",
    "            colleague you can open up to, you will likely find that this person has experienced similar feelings, and that can\\\n",
    "            be tremendously reassuring, because it shows you that impostor syndrome is a common phenomenon, not a manifestation of your inner unworthiness.\\\n",
    "            A therapist can be an excellent resource on your graduate school journey to help you examine, challenge, and\\\n",
    "            let go of your self-doubts. I wish you the best of luck in graduate school and beyond!',\n",
    "           \n",
    "           'First step is to remove the label of your behavior as a syndrome and instead understand the reasons for it.\\\n",
    "           \"Imposter syndrome\\\" sounds like a name someone made up to write a book and have lots of people buy it bc it\\\n",
    "           gives the feeling they know themselves by calling themselves this name.\\\n",
    "            Instead, consider your own unique qualities including your fears of being recognized as adding value to people\\'s lives.\\\n",
    "            If you were told growing up that you\\'re worthless, or if your chosen career goes against family advice and expectations,\\\n",
    "            or if you simply are a shy person, then these would be the starting points to understand your reluctance to believe in yourself.\\\n",
    "            The more you understand yourself and trust the truths you find as to who you are, the less you will feel fraudulent.\\\n",
    "            Good luck in your career work!',\n",
    "           \n",
    "           'It would be very helpful to identify with you eventual pattern where the imposter syndrome is more or less present. Are there\\\n",
    "           specific situations where you\\'ve noticed the feelings of \\\"I\\'m going to be found out as a fraud\\\" becoming more strong? It\\\n",
    "           seems that shaking this feeling is very important to you. In my opinion, before shaking that feeling, we need to get closer\\\n",
    "           to it and understand its roots. If you would like to get closer to the feeling, you might consider asking yourself questions\\\n",
    "           such: \"What is the trigger for this feeling? How does it feel in the body? What is the thought process I engage with after\\\n",
    "           noticing this feeling? All the best. Rossana Mag.',\n",
    "           \n",
    "           'According to research, one of the ways to manage imposter feelings is to explore the cognitive distortions that contribute\\\n",
    "           to the negative emotions. Expert  Jessica Vanderland, Ph.D a clinical psychologist.  challenges individuals to examine the\\\n",
    "           bigger picture and asked the question concerning  what fact supports that you deserve to be in your role? Vanderland said,\\\n",
    "           \\\"it can help to zoom out and consider how where you are now compares to where you were last year or five years ago.\\\"  \\\n",
    "           Vanderland recommended a simple exercise of exploring how you might help a friend who undermines their achievements and\\\n",
    "           then apply the same supportive words to their your own narrative.',\n",
    "           \n",
    "           'What you described is so common for graduate students.  When I was in graduate school,\\\n",
    "           I felt the same way and continue to at times now even though I\\'m licensed!\\\n",
    "           One of the things to know is that it\\'s good to a certain degree to experience some self-doubt.\\\n",
    "           It\\'s what pushes you to keep learning in your field and grow professionally.  When you are in\\\n",
    "           graduate school, you\\'re really at the beginning of that journey so of course you aren\\'t expected\\\n",
    "           to know everything or to feel like you have mastered what you\\'ve learned.\\\n",
    "           Do you have a professor you are comfortable discussing this with?  Or maybe a fellow student you feel\\\n",
    "           a connection with?  It can be helpful to discuss these concerns with people that might understand what\\\n",
    "           you are going through and can offer some guidance or make you feel less alone in it.\\\n",
    "           Something I do to quiet that \"imposter voice\" is make sure I\\'m not giving attention to comparisons.\\\n",
    "           That\\'s a one way ticket to feeling incompetent.  Even comparing yourself to others in graduate school\\\n",
    "           is unhelpful because what we think people know and what they actually know can be distorted based on how\\\n",
    "           confident we feel in our own abilities.  Look at your accomplishments and the things you have truly learned.\\\n",
    "           You obviously put in some incredibly hard work to make it into graduate school.  How much credit are you giving\\\n",
    "           yourself for what you already have done or know?',\n",
    "           \n",
    "           '\"Imposter Syndrome\" is a basic effect is a dishonest cause.\\\n",
    "           Basically, there is a fundamental lack of honesty in some important parts of your life (my guess would be relationships)\\\n",
    "           that has led to this sense of dread and guilt.\\\n",
    "           I wonder where the dishonesty be...',\n",
    "           \n",
    "           'I\\'m sorry you\\'re feeling this way. You\\'ve probably read articles already about impostor syndrome, but still didn\\'t get\\\n",
    "           the answers you were looking for; you probably know that lots of people feel this way, that it happens to lots of successful\\\n",
    "           people in professional settings. Not helping, right?\\\n",
    "           Think about people who succeed at big tasks: an Olympic athlete has a defined goal that they need to meet: cross the finish line,\\\n",
    "           say, faster than anyone else. That success is remarked upon, and - until someone does the event better than they did - they are \\'the best.\\'\\\n",
    "           Grad school, however, is not so great at discrete goals and celebrations of success. You got a good grade on an assignment, but\\\n",
    "           what about the next one? You and 6 other people in your class probably got the same grade, so does that make you a success or average? \\\n",
    "           It falls to you, then, to identify ways you are sure you\\'ve succeeded. If your grades and peer admiration aren\\'t hallmarks of success enough,\\\n",
    "           perhaps pull your measuring tool inward: measure your achievements against your own progress- ie: I got a 93 on my last assignment,\\\n",
    "           I got a 97 this time! You might find those feelings fading soon~ '\n",
    "          ]"
   ]
  },
  {
   "cell_type": "code",
   "execution_count": 5,
   "metadata": {},
   "outputs": [],
   "source": [
    "comment2 = ['Watching children go through challenges in their lives is difficult. On a very basic level, There exists a primal need to \\\n",
    "protect them from harm. The hard part for parents is letting them feel those challenges and working through them as they \\\n",
    "get older. At some point, there is a moment that occurs when the role as a parent shifts. Children no longer need the \\\n",
    "basics (food, shelter. water, safety) as much as when they were toddlers, but rather, their needs shift to wanting more \\\n",
    "support, encouragement, advice, and room to make mistakes. This is where the ability to communicate with them, letting them \\\n",
    "direct the sails to gather the wind needed to move, is so important. Keep the lines of communication open and be available \\\n",
    "to give feedback when they ask for it.',\n",
    "         \n",
    "'Oh dear - this is becoming all too common.  I suggest you have some conversations with your girl to figure out where she \\\n",
    "is getting the \"information\" that she builds anxiety around. I see teens  who have heard teachers, parents, coaches, etc \\\n",
    "push the \"highly selective colleges\" idea on kids way too much. Teens in particular are prone to black and white thinking, \\\n",
    "leading them to see one poor test performance, one off day, one not-great assignment as the make-or-break task on the path \\\n",
    "to successful adulthood.  If that\\'s the case with your daughter, she needs you to help modulate both the incoming information \\\n",
    "(there are nearly 5000 colleges in the US - she will get into one of them!) as well as her reaction to that information.\\\n",
    "As well, you and any other adults that are involved in parenting her need to discern fact from fiction.  The recent scandal \\\n",
    "around celebrities \"buying\" their kids into college is an indicator of how far off track we, as a culture, have gotten in \\\n",
    "terms of education.  A college education is certainly important, but we have allowed the marketing push to create so much \\\n",
    "stress and upset for our kids (and ourselves as parents) that they are actually less prepared to leave home and really \\\n",
    "engage in higher education than ever.\\\n",
    "You may want to include a therapist in these conversations if you get stuck, but start with a parent-child conversation. \\\n",
    "Help her figure out what is going on - if it is the \"I have to get it right or I will have no future\", calmly walk \\\n",
    "her through all the evidence that says that\\'s just not true.  As well, let her know that being anxious now is NOT \\\n",
    "preparing her for a bright adulthood - it\\'s preparing her for an anxious future.  She needs help figuring out how to \\\n",
    "balance her effort to attend to real and reasonable expectations, not over-inflated fear-based actions.',\n",
    "\n",
    "'Your concerns about your daughter are valid and as you may think of them to be \"silly\" often times stress presents \\\n",
    "differently to those who are directly experiencing it. Stress, though a 5 letter word, is emotional and physical tension \\\n",
    "typically arising from the demands of life that one may believe to be complex, challenging or demanding. While you are \\\n",
    "afraid that she is stressing too much it is important to understanding from her perspective what it means to her to work hard in school.\\\n",
    "As a teenager the source of stress could function from school demands, frustrations of success vs failure, and even thoughts \\\n",
    "that arise about themselves, along with everyday pressures. Sometimes stress will \"let up\" and other times stress can become \\\n",
    "so overwhelming leading one to experience fight-or-flight responses as the automatic preparation that signals a sign of danger \\\n",
    "or threat. When this occurs natural stress can produce stress much more overwhelming and difficult to handle alone.\\\n",
    "Luckily, you nor your daughter have to feel alone though you are experiencing some fear and uncertainty. To assist in keeping \\\n",
    "stress manageable it helps to sit down with your daughter and address where she is feeling the most pressure and overwhelmingness \\\n",
    "and consider a schedule that provided realistic goals, rhyme and reason. Consider practicing meditation, relaxation and breathing \\\n",
    "exercises that serve as the natural antidote to relieve stress. If there is some hesitancy or uncomfortableness of having this \\\n",
    "conversation, validate your daughter\\'s feeling and loop in a therapist who can further provided recommendation and stress management \\\n",
    "techniques along with a variety of treatment methods.\\\n",
    "Thank you for your courage to post this. Wishing all the best!']"
   ]
  },
  {
   "cell_type": "markdown",
   "metadata": {},
   "source": [
    "# Reddit Data"
   ]
  },
  {
   "cell_type": "code",
   "execution_count": 4,
   "metadata": {},
   "outputs": [],
   "source": [
    "post = \"10 months ago, my husband and I eloped. We used to date in college, but we broke up and had only been seeing each other again for 5 months before we tied the knot.\\\n",
    "Our marriage has been really good, at least it seemed that way to me.\\\n",
    "Yesterday, I overheard my husband talking to his cousin. I had just come from dropping some things off for my parents, so I don’t think either of them realised I was home.\\\n",
    "The cousin was telling my husband how he never thought he would get married, and my husband got really quiet. He then said “he didn’t know what he was thinking” when he married me.\\\n",
    "His cousin asked him if he regretted it and my husband didn’t say a word. His cousins started making jokes about the situation and said something about how at least my husband gets \\\n",
    "to enjoy the honeymoon period sex and he said, “at least there’s that”.\\\n",
    "I haven’t confronted him just yet because I have the awful habit of crying whenever I’m upset. I thought I would post here to get some advice before I do. How do I proceed from here?\\\n",
    "TL;DR – Husband told his cousin he didn’t know what he was thinking when he married me and didn’t respond when his cousin asked him if he regretted marrying me.\"\n"
   ]
  },
  {
   "cell_type": "code",
   "execution_count": 5,
   "metadata": {},
   "outputs": [],
   "source": [
    "comment1=[\"You need to talk to him these are some very hurtful words and if he feels this way then you need to decide what to do.\",\n",
    "         \"Just tell him you overheard him and his cousin talking and you need to know what you meant and how he feels with your marriage and before he says anything you tell him you only want the truth. Hope all is well\",\n",
    "         \"That absolutely sucks! It is ok for you to cry and to feel what you're feeling.\\\n",
    "It may be of some comfort that this comes early rather than a decade later with kids and a lot of shared assets. Or after resentment leads to bitter fights and a hateful divorce.\\\n",
    "Annulments were made for times like this. As much as it hurts, it may be for the best to talk to him about annulling the marriage and moving on.\",\n",
    "         \"Husband, I heard what you said to your cousin. I need to know if you want to stay in this marriage.\",\n",
    "         ]"
   ]
  },
  {
   "cell_type": "code",
   "execution_count": 6,
   "metadata": {},
   "outputs": [],
   "source": [
    "comment2 = [\"...he threatened to shoot you and you didn’t call the cops? You’re lucky he didn’t kill you or your mother.\",\n",
    "           \"You should have called the police. You need a restraining order.\\\n",
    "I’m glad you’re getting out. Very smart.\",\n",
    "           \"When someone is holding a gun and threatens to shoot you, please leave and call the police.\",\n",
    "           \"He sounds like a douche, but my first thought was maybe he was going to commit suicide....\",\n",
    "           \"Wow...you were threatened by him..with a gun..and you didn't even call the police on him?\\\n",
    "I would just say, if this happened again, do call the police. You were betting with your own safety, I'm glad that he didn't end up shooting at you or your mom.\\\n",
    "I hope he doesn't contact you anymore and will leave you alone. Take care, OP. You definitely did the right choice of breaking it off with him.\"]"
   ]
  },
  {
   "cell_type": "markdown",
   "metadata": {},
   "source": [
    "# Ranking"
   ]
  },
  {
   "cell_type": "code",
   "execution_count": 7,
   "metadata": {},
   "outputs": [],
   "source": [
    "def rank_comment(post: str, raw_comments: list):\n",
    "    ranking_comments = []\n",
    "    for raw_comment in raw_comments:\n",
    "        comment = {}\n",
    "        comment['content'] = raw_comment\n",
    "        comment['score'] = pairing(post, raw_comment)\n",
    "        ranking_comments.append(comment)\n",
    "    return ranking_comments, sorted(ranking_comments, key=lambda i: i['score'], reverse=True)\n",
    "    \n",
    "    "
   ]
  },
  {
   "cell_type": "code",
   "execution_count": 8,
   "metadata": {},
   "outputs": [],
   "source": [
    "def summarize(text, summarizer_model, maxlen=maxlen):\n",
    "    if len(text.split()) > maxlen: \n",
    "        result = summarizer_model(text, ratio=0.6, max_length=maxlen)\n",
    "        #result = summarizer_model(text, max_length=maxlen)\n",
    "        text = ''.join(result)\n",
    "    return text\n",
    "\n",
    "comments = comment1 + comment2\n",
    "summarizer_model = Summarizer()\n",
    "\n",
    "post = summarize(post, summarizer_model)\n",
    "\n",
    "for c in comments:\n",
    "    c = summarize(c, summarizer_model)\n"
   ]
  },
  {
   "cell_type": "code",
   "execution_count": 12,
   "metadata": {},
   "outputs": [
    {
     "name": "stdout",
     "output_type": "stream",
     "text": [
      "Post Content:\n",
      "Yesterday, I overheard my husband talking to his cousin.\n",
      "=========================================\n"
     ]
    },
    {
     "ename": "NameError",
     "evalue": "name 'np' is not defined",
     "output_type": "error",
     "traceback": [
      "\u001b[0;31m---------------------------------------------------------------------------\u001b[0m",
      "\u001b[0;31mNameError\u001b[0m                                 Traceback (most recent call last)",
      "\u001b[0;32m<ipython-input-12-e4c852530502>\u001b[0m in \u001b[0;36m<module>\u001b[0;34m\u001b[0m\n\u001b[1;32m      3\u001b[0m \u001b[0;34m\u001b[0m\u001b[0m\n\u001b[1;32m      4\u001b[0m \u001b[0mprint\u001b[0m\u001b[0;34m(\u001b[0m\u001b[0;34m\"=========================================\"\u001b[0m\u001b[0;34m)\u001b[0m\u001b[0;34m\u001b[0m\u001b[0;34m\u001b[0m\u001b[0m\n\u001b[0;32m----> 5\u001b[0;31m \u001b[0mranking_comments\u001b[0m\u001b[0;34m,\u001b[0m \u001b[0msorted_comments\u001b[0m \u001b[0;34m=\u001b[0m \u001b[0mrank_comment\u001b[0m\u001b[0;34m(\u001b[0m\u001b[0mpost\u001b[0m\u001b[0;34m,\u001b[0m \u001b[0mcomments\u001b[0m\u001b[0;34m)\u001b[0m\u001b[0;34m\u001b[0m\u001b[0;34m\u001b[0m\u001b[0m\n\u001b[0m\u001b[1;32m      6\u001b[0m \u001b[0;32mfor\u001b[0m \u001b[0mc\u001b[0m \u001b[0;32min\u001b[0m \u001b[0msorted_comments\u001b[0m\u001b[0;34m:\u001b[0m\u001b[0;34m\u001b[0m\u001b[0;34m\u001b[0m\u001b[0m\n\u001b[1;32m      7\u001b[0m     \u001b[0mprint\u001b[0m\u001b[0;34m(\u001b[0m\u001b[0mc\u001b[0m\u001b[0;34m[\u001b[0m\u001b[0;34m'content'\u001b[0m\u001b[0;34m]\u001b[0m\u001b[0;34m)\u001b[0m\u001b[0;34m\u001b[0m\u001b[0;34m\u001b[0m\u001b[0m\n",
      "\u001b[0;32m<ipython-input-7-31e4fa7004b6>\u001b[0m in \u001b[0;36mrank_comment\u001b[0;34m(post, raw_comments)\u001b[0m\n\u001b[1;32m      4\u001b[0m         \u001b[0mcomment\u001b[0m \u001b[0;34m=\u001b[0m \u001b[0;34m{\u001b[0m\u001b[0;34m}\u001b[0m\u001b[0;34m\u001b[0m\u001b[0;34m\u001b[0m\u001b[0m\n\u001b[1;32m      5\u001b[0m         \u001b[0mcomment\u001b[0m\u001b[0;34m[\u001b[0m\u001b[0;34m'content'\u001b[0m\u001b[0;34m]\u001b[0m \u001b[0;34m=\u001b[0m \u001b[0mraw_comment\u001b[0m\u001b[0;34m\u001b[0m\u001b[0;34m\u001b[0m\u001b[0m\n\u001b[0;32m----> 6\u001b[0;31m         \u001b[0mcomment\u001b[0m\u001b[0;34m[\u001b[0m\u001b[0;34m'score'\u001b[0m\u001b[0;34m]\u001b[0m \u001b[0;34m=\u001b[0m \u001b[0mpairing\u001b[0m\u001b[0;34m(\u001b[0m\u001b[0mpost\u001b[0m\u001b[0;34m,\u001b[0m \u001b[0mraw_comment\u001b[0m\u001b[0;34m)\u001b[0m\u001b[0;34m\u001b[0m\u001b[0;34m\u001b[0m\u001b[0m\n\u001b[0m\u001b[1;32m      7\u001b[0m         \u001b[0mranking_comments\u001b[0m\u001b[0;34m.\u001b[0m\u001b[0mappend\u001b[0m\u001b[0;34m(\u001b[0m\u001b[0mcomment\u001b[0m\u001b[0;34m)\u001b[0m\u001b[0;34m\u001b[0m\u001b[0;34m\u001b[0m\u001b[0m\n\u001b[1;32m      8\u001b[0m     \u001b[0;32mreturn\u001b[0m \u001b[0mranking_comments\u001b[0m\u001b[0;34m,\u001b[0m \u001b[0msorted\u001b[0m\u001b[0;34m(\u001b[0m\u001b[0mranking_comments\u001b[0m\u001b[0;34m,\u001b[0m \u001b[0mkey\u001b[0m\u001b[0;34m=\u001b[0m\u001b[0;32mlambda\u001b[0m \u001b[0mi\u001b[0m\u001b[0;34m:\u001b[0m \u001b[0mi\u001b[0m\u001b[0;34m[\u001b[0m\u001b[0;34m'score'\u001b[0m\u001b[0;34m]\u001b[0m\u001b[0;34m,\u001b[0m \u001b[0mreverse\u001b[0m\u001b[0;34m=\u001b[0m\u001b[0;32mTrue\u001b[0m\u001b[0;34m)\u001b[0m\u001b[0;34m\u001b[0m\u001b[0;34m\u001b[0m\u001b[0m\n",
      "\u001b[0;32m~/fyp/comment_ranking_model/utils.py\u001b[0m in \u001b[0;36mpairing\u001b[0;34m(post_content, comment)\u001b[0m\n\u001b[1;32m    162\u001b[0m \u001b[0;32mdef\u001b[0m \u001b[0mpairing\u001b[0m\u001b[0;34m(\u001b[0m\u001b[0mpost_content\u001b[0m\u001b[0;34m,\u001b[0m \u001b[0mcomment\u001b[0m\u001b[0;34m)\u001b[0m\u001b[0;34m:\u001b[0m\u001b[0;34m\u001b[0m\u001b[0;34m\u001b[0m\u001b[0m\n\u001b[1;32m    163\u001b[0m     \u001b[0mdf_prediction\u001b[0m \u001b[0;34m=\u001b[0m \u001b[0mpd\u001b[0m\u001b[0;34m.\u001b[0m\u001b[0mDataFrame\u001b[0m\u001b[0;34m(\u001b[0m\u001b[0;34m)\u001b[0m\u001b[0;34m\u001b[0m\u001b[0;34m\u001b[0m\u001b[0m\n\u001b[0;32m--> 164\u001b[0;31m \u001b[0;34m\u001b[0m\u001b[0m\n\u001b[0m\u001b[1;32m    165\u001b[0m     \u001b[0mprediction\u001b[0m \u001b[0;34m=\u001b[0m \u001b[0;34m{\u001b[0m\u001b[0;34m\"sentence1\"\u001b[0m\u001b[0;34m:\u001b[0m \u001b[0mpost_content\u001b[0m\u001b[0;34m,\u001b[0m \u001b[0;34m\"sentence2\"\u001b[0m\u001b[0;34m:\u001b[0m \u001b[0mcomment\u001b[0m\u001b[0;34m,\u001b[0m \u001b[0;34m\"label\"\u001b[0m\u001b[0;34m:\u001b[0m \u001b[0mnp\u001b[0m\u001b[0;34m.\u001b[0m\u001b[0mnan\u001b[0m\u001b[0;34m}\u001b[0m\u001b[0;34m\u001b[0m\u001b[0;34m\u001b[0m\u001b[0m\n\u001b[1;32m    166\u001b[0m     \u001b[0mseries_prediction\u001b[0m \u001b[0;34m=\u001b[0m \u001b[0mpd\u001b[0m\u001b[0;34m.\u001b[0m\u001b[0mSeries\u001b[0m\u001b[0;34m(\u001b[0m\u001b[0mprediction\u001b[0m\u001b[0;34m)\u001b[0m\u001b[0;34m\u001b[0m\u001b[0;34m\u001b[0m\u001b[0m\n",
      "\u001b[0;31mNameError\u001b[0m: name 'np' is not defined"
     ]
    }
   ],
   "source": [
    "\n",
    "print(\"Post Content:\")\n",
    "print(post)\n",
    "\n",
    "print(\"=========================================\")\n",
    "ranking_comments, sorted_comments = rank_comment(post, comments)\n",
    "for c in sorted_comments:\n",
    "    print(c['content'])\n",
    "    tf.print(c['score'], output_stream=sys.stderr)\n",
    "    print()\n",
    "print(\"=========================================\")"
   ]
  },
  {
   "cell_type": "markdown",
   "metadata": {},
   "source": [
    "# Load model and run"
   ]
  },
  {
   "cell_type": "code",
   "execution_count": null,
   "metadata": {},
   "outputs": [
    {
     "name": "stdout",
     "output_type": "stream",
     "text": [
      "Loading the weights of the model...\n",
      "Let's use 1 GPUs!\n",
      "start visualize...\n"
     ]
    },
    {
     "data": {
      "text/html": [
       "<script src=\"https://cdnjs.cloudflare.com/ajax/libs/require.js/2.3.6/require.min.js\"></script>"
      ],
      "text/plain": [
       "<IPython.core.display.HTML object>"
      ]
     },
     "metadata": {},
     "output_type": "display_data"
    },
    {
     "data": {
      "text/html": [
       "\n",
       "            <div id='bertviz-3c7942ad4c3d44cea619b76a05358793'>\n",
       "              <span style=\"user-select:none\">\n",
       "                Layer: <select id=\"layer\"></select>\n",
       "              </span>\n",
       "              <div id='vis'></div> \n",
       "            </div>\n",
       "        "
      ],
      "text/plain": [
       "<IPython.core.display.HTML object>"
      ]
     },
     "metadata": {},
     "output_type": "display_data"
    }
   ],
   "source": [
    "# Load model\n",
    "path_to_model = \"./models/roberta-large_lf_MSELoss()_lr_2e-06_val_loss_2.96311_ep_22.pt\"\n",
    "print(\"Loading the weights of the model...\")\n",
    "model = SentencePairClassifier(bert_model)\n",
    "#tokenizer = RobertaTokenizer.from_pretrained(bert_model)\n",
    "tokenizer = AutoTokenizer.from_pretrained(bert_model, use_fast=False)      \n",
    "\n",
    "device = torch.device(\"cuda:0\" if torch.cuda.is_available() else \"cpu\")\n",
    "if torch.cuda.device_count() >= 1:  # if multiple GPUs\n",
    "    print(\"Let's use\", torch.cuda.device_count(), \"GPUs!\")\n",
    "    model = nn.DataParallel(model)\n",
    "model.load_state_dict(torch.load(path_to_model))\n",
    "model.to(device)\n",
    "\n",
    "sentence_a = post[0]\n",
    "sentence_b = comments1[0]\n",
    "\n",
    "#model.eval()\n",
    "#with torch.no_grad():\n",
    "print(\"start visualize...\")\n",
    "inputs = tokenizer.encode_plus(sentence_a, sentence_b, return_tensors='pt', add_special_tokens=True, return_token_type_ids=True)\n",
    "seq = inputs['input_ids']\n",
    "attn_masks = inputs['attention_mask']\n",
    "token_type_ids = inputs['token_type_ids']\n",
    "\n",
    "seq, attn_masks, token_type_ids = seq.to(device), attn_masks.to(device), token_type_ids.to(device)\n",
    "attention = model(seq,attn_masks, token_type_ids)[-1]\n",
    "input_id_list = seq[0].tolist() # Batch index 0\n",
    "tokens = tokenizer.convert_ids_to_tokens(input_id_list)\n",
    "head_view(attention, tokens)"
   ]
  },
  {
   "cell_type": "code",
   "execution_count": null,
   "metadata": {},
   "outputs": [],
   "source": []
  }
 ],
 "metadata": {
  "kernelspec": {
   "display_name": "kernel_for_tensorflow",
   "language": "python",
   "name": "kernel_for_tensorflow"
  },
  "language_info": {
   "codemirror_mode": {
    "name": "ipython",
    "version": 3
   },
   "file_extension": ".py",
   "mimetype": "text/x-python",
   "name": "python",
   "nbconvert_exporter": "python",
   "pygments_lexer": "ipython3",
   "version": "3.6.10"
  }
 },
 "nbformat": 4,
 "nbformat_minor": 4
}
