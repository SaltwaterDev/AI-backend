{
 "cells": [
  {
   "cell_type": "code",
   "execution_count": null,
   "metadata": {},
   "outputs": [],
   "source": [
    "import pandas as pd\n",
    "df_summary = pd.read_csv(\"../input/news-summary/news_summary_more.csv\")\n",
    "news_txt = df_summary['text']"
   ]
  },
  {
   "cell_type": "code",
   "execution_count": null,
   "metadata": {},
   "outputs": [],
   "source": [
    "with open('/kaggle/working/news_text.txt','w') as save_txt:\n",
    "    for i in range(100):\n",
    "        save_txt.write(news_txt[i].strip()+'\\n')"
   ]
  },
  {
   "cell_type": "code",
   "execution_count": null,
   "metadata": {},
   "outputs": [],
   "source": [
    "import torch\n",
    "\n",
    "bart = torch.hub.load('pytorch/fairseq', 'bart.large.cnn')\n",
    "bart.cuda()\n",
    "bart.eval()\n",
    "bart.half()\n",
    "count = 1\n",
    "bsz = 32"
   ]
  },
  {
   "cell_type": "code",
   "execution_count": null,
   "metadata": {},
   "outputs": [],
   "source": [
    "with open('/kaggle/working/news_text.txt') as source, open('/kaggle/working/test.hypo', 'w') as fout:\n",
    "    sline = source.readline().strip()\n",
    "    slines = [sline]\n",
    "    for sline in source:\n",
    "        if count % bsz == 0:\n",
    "            with torch.no_grad():\n",
    "                hypotheses_batch = bart.sample(slines, beam=4, lenpen=2.0, max_len_b=140, min_len=55, no_repeat_ngram_size=3)\n",
    "\n",
    "            for hypothesis in hypotheses_batch:\n",
    "                fout.write(hypothesis + '\\n')\n",
    "                fout.flush()\n",
    "            slines = []\n",
    "\n",
    "        slines.append(sline.strip())\n",
    "        count += 1"
   ]
  },
  {
   "cell_type": "code",
   "execution_count": null,
   "metadata": {},
   "outputs": [],
   "source": [
    "with open('/kaggle/working/news_text.txt', 'r') as fout:\n",
    "    src=fout.readlines()"
   ]
  },
  {
   "cell_type": "code",
   "execution_count": null,
   "metadata": {},
   "outputs": [],
   "source": [
    "with open('/kaggle/working/test.hypo', 'r') as fout:\n",
    "    s=fout.readlines()"
   ]
  },
  {
   "cell_type": "code",
   "execution_count": null,
   "metadata": {},
   "outputs": [],
   "source": [
    "i=12\n",
    "print('Source text:'+'\\n'+src[i])"
   ]
  },
  {
   "cell_type": "code",
   "execution_count": null,
   "metadata": {},
   "outputs": [],
   "source": [
    "print('Summary text:'+'\\n'+s[i])"
   ]
  }
 ],
 "metadata": {
  "kernelspec": {
   "display_name": "Python 3",
   "language": "python",
   "name": "python3"
  },
  "language_info": {
   "codemirror_mode": {
    "name": "ipython",
    "version": 3
   },
   "file_extension": ".py",
   "mimetype": "text/x-python",
   "name": "python",
   "nbconvert_exporter": "python",
   "pygments_lexer": "ipython3",
   "version": "3.7.4"
  }
 },
 "nbformat": 4,
 "nbformat_minor": 4
}
