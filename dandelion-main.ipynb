{
 "cells": [
  {
   "cell_type": "markdown",
   "metadata": {},
   "source": [
    "## Conversational AI with Transfer Learning"
   ]
  },
  {
   "cell_type": "code",
   "execution_count": null,
   "metadata": {},
   "outputs": [],
   "source": [
    "#!git clone https://github.com/huggingface/transfer-learning-conv-ai\n",
    "#!cd transfer-learning-conv-ai\n",
    "#!pip install -r requirements.txt\n",
    "#!python -m spacy download en if can't go search online, both conda and pip is fine I think"
   ]
  },
  {
   "cell_type": "markdown",
   "metadata": {},
   "source": [
    "You could play the conversation model by typing the `./interact.py` on terminal or run the code down below to get its content."
   ]
  },
  {
   "cell_type": "code",
   "execution_count": null,
   "metadata": {},
   "outputs": [],
   "source": [
    "%load interact.py"
   ]
  },
  {
   "cell_type": "markdown",
   "metadata": {},
   "source": [
    "## Counsel chat"
   ]
  },
  {
   "cell_type": "code",
   "execution_count": 11,
   "metadata": {},
   "outputs": [
    {
     "name": "stdout",
     "output_type": "stream",
     "text": [
      "Cloning into 'counsel-chat'...\n",
      "remote: Enumerating objects: 25, done.\u001b[K\n",
      "remote: Counting objects: 100% (25/25), done.\u001b[K\n",
      "remote: Compressing objects: 100% (22/22), done.\u001b[K\n",
      "remote: Total 25 (delta 8), reused 16 (delta 2), pack-reused 0\u001b[K\n",
      "Unpacking objects: 100% (25/25), done.\n"
     ]
    }
   ],
   "source": [
    "#%cd ~\n",
    "!git clone https://github.com/nbertagnolli/counsel-chat.git"
   ]
  },
  {
   "cell_type": "code",
   "execution_count": null,
   "metadata": {},
   "outputs": [],
   "source": []
  },
  {
   "cell_type": "code",
   "execution_count": null,
   "metadata": {},
   "outputs": [],
   "source": [
    "python3 transfer-learning-conv-ai/train.py --dataset_path counsel-chat/data/counsel_chat_250-tokens.json -- \n",
    "python3 transfer-learning-conv-ai/train.py --dataset_path counsel-chat/data/counsel_chat_250-tokens.json --gradient_accumulation_steps=4 --lm_coef=2.0 --max_history=1 --n_epochs=3 --num_candidates=4 --train_batch_size=2\n"
   ]
  }
 ],
 "metadata": {
  "kernelspec": {
   "display_name": "kernel_for_tensorflow",
   "language": "python",
   "name": "kernel_for_tensorflow"
  },
  "language_info": {
   "codemirror_mode": {
    "name": "ipython",
    "version": 3
   },
   "file_extension": ".py",
   "mimetype": "text/x-python",
   "name": "python",
   "nbconvert_exporter": "python",
   "pygments_lexer": "ipython3",
   "version": "3.6.10"
  }
 },
 "nbformat": 4,
 "nbformat_minor": 4
}
